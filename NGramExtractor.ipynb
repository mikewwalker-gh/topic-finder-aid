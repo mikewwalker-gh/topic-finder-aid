{
 "cells": [
  {
   "cell_type": "code",
   "execution_count": null,
   "id": "0f17df51",
   "metadata": {},
   "outputs": [],
   "source": [
    "import csv\n",
    "import nltk\n",
    "import string\n",
    "from nltk.tokenize import word_tokenize\n",
    "from nltk.corpus import stopwords\n",
    "from nltk import ngrams\n",
    "import matplotlib.pyplot as plt\n",
    "from wordcloud import WordCloud\n",
    "from collections import Counter\n",
    "\n",
    "# Load stop words - We may not need to filter stop words\n",
    "stop_words = set(stopwords.words('english'))\n",
    "\n",
    "# Read chat file\n",
    "# chat_file = 'Chat_Airline_JustText_utf8.csv'\n",
    "chat_file = 'Airline_Chat_UTF8.csv'\n",
    "\n",
    "with open(chat_file, encoding='utf-8',errors = 'ignore') as f:\n",
    "    reader = csv.reader(f)\n",
    "    chat = list(reader)\n",
    "chat = [c[0] for c in chat]\n",
    "\n",
    "# Remove punctuation and non-alpha characters\n",
    "table = str.maketrans('', '', string.punctuation + string.digits)\n",
    "chat_cleaned = [c.translate(table) for c in chat]\n",
    "chat_cleaned = [' '.join(w for w in c.split() if w.isalpha()) for c in chat_cleaned]\n",
    "\n",
    "# Tokenize, lowercase, and remove stop words\n",
    "chat_tokens = [word_tokenize(c.lower()) for c in chat_cleaned]\n",
    "chat_tokens = [[w for w in c if not w in stop_words] for c in chat_tokens]\n",
    "\n",
    "# Extract trigrams - I think trigrams are most suited here, we can also try with bigrams\n",
    "chat_trigrams = [ngrams(c, 3) for c in chat_tokens]\n",
    "chat_trigrams = [t for c in chat_trigrams for t in c]\n",
    "\n",
    "# Visualize trigram frequency distribution as bar chart\n",
    "freq_dist = nltk.FreqDist(chat_trigrams)\n",
    "plt.figure(figsize=(12, 6))\n",
    "freq_dist.plot(30)\n",
    "\n",
    "# Visualize trigram frequency distribution as word cloud\n",
    "\n",
    "# wordcloud = WordCloud(width=800, height=800, background_color='white').generate_from_frequencies(freq_dist)\n",
    "# plt.figure(figsize=(10, 10))\n",
    "# plt.imshow(wordcloud)\n",
    "# plt.axis('off')\n",
    "# plt.show()\n",
    "\n",
    "# trigram_counts = Counter(chat_trigrams)\n",
    "# trigram_counts = {z: y for x, y in freq_dist.items() for z in x}\n",
    "# wordcloud = WordCloud(background_color='white').generate_from_frequencies(trigram_counts)\n",
    "# plt.figure(figsize=(8, 6), dpi=80)\n",
    "# plt.imshow(wordcloud, interpolation='bilinear')\n",
    "# plt.axis('off')\n",
    "# plt.title('Trigram Word Cloud')\n",
    "# plt.show()\n"
   ]
  },
  {
   "cell_type": "code",
   "execution_count": null,
   "id": "19116d5c",
   "metadata": {},
   "outputs": [],
   "source": []
  }
 ],
 "metadata": {
  "kernelspec": {
   "display_name": "Python 3",
   "language": "python",
   "name": "python3"
  },
  "language_info": {
   "codemirror_mode": {
    "name": "ipython",
    "version": 3
   },
   "file_extension": ".py",
   "mimetype": "text/x-python",
   "name": "python",
   "nbconvert_exporter": "python",
   "pygments_lexer": "ipython3",
   "version": "3.8.8"
  }
 },
 "nbformat": 4,
 "nbformat_minor": 5
}
